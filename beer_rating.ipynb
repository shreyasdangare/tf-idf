{
 "cells": [
  {
   "cell_type": "code",
   "execution_count": 1,
   "metadata": {
    "nbpresent": {
     "id": "1df2e3a3-a0be-4e32-8059-a9868fa170de"
    }
   },
   "outputs": [],
   "source": [
    "import pandas as pd\n",
    "import numpy as np\n",
    "import time\n",
    "import re\n",
    "import matplotlib.pyplot as plt\n",
    "from sklearn.linear_model import LinearRegression, SGDRegressor\n",
    "from sklearn.preprocessing import LabelEncoder, StandardScaler, MinMaxScaler\n",
    "from sklearn.model_selection import train_test_split, GridSearchCV\n",
    "from sklearn.metrics import mean_squared_error, mean_absolute_error, mean_squared_log_error\n",
    "from sklearn.ensemble import RandomForestRegressor, AdaBoostRegressor\n",
    "from sklearn.feature_extraction.text import TfidfVectorizer, TfidfTransformer, CountVectorizer\n",
    "from sklearn.pipeline import Pipeline\n",
    "from xgboost import XGBClassifier, XGBRegressor\n",
    "from sklearn.naive_bayes import MultinomialNB\n",
    "\n",
    "import nltk\n",
    "# nltk.download('stopwords')\n",
    "# nltk.download('wordnet')\n",
    "from nltk.stem import WordNetLemmatizer\n",
    "from nltk.tokenize import RegexpTokenizer\n",
    "from nltk.corpus import stopwords"
   ]
  },
  {
   "cell_type": "code",
   "execution_count": 2,
   "metadata": {
    "nbpresent": {
     "id": "2563c1da-8153-4010-8279-22ff2ed9a62a"
    }
   },
   "outputs": [
    {
     "data": {
      "text/html": [
       "<div>\n",
       "<style scoped>\n",
       "    .dataframe tbody tr th:only-of-type {\n",
       "        vertical-align: middle;\n",
       "    }\n",
       "\n",
       "    .dataframe tbody tr th {\n",
       "        vertical-align: top;\n",
       "    }\n",
       "\n",
       "    .dataframe thead th {\n",
       "        text-align: right;\n",
       "    }\n",
       "</style>\n",
       "<table border=\"1\" class=\"dataframe\">\n",
       "  <thead>\n",
       "    <tr style=\"text-align: right;\">\n",
       "      <th></th>\n",
       "      <th>index</th>\n",
       "      <th>beer/ABV</th>\n",
       "      <th>beer/beerId</th>\n",
       "      <th>beer/brewerId</th>\n",
       "      <th>beer/name</th>\n",
       "      <th>beer/style</th>\n",
       "      <th>review/appearance</th>\n",
       "      <th>review/aroma</th>\n",
       "      <th>review/overall</th>\n",
       "      <th>review/palate</th>\n",
       "      <th>review/taste</th>\n",
       "      <th>review/text</th>\n",
       "      <th>review/timeStruct</th>\n",
       "      <th>review/timeUnix</th>\n",
       "      <th>user/ageInSeconds</th>\n",
       "      <th>user/birthdayRaw</th>\n",
       "      <th>user/birthdayUnix</th>\n",
       "      <th>user/gender</th>\n",
       "      <th>user/profileName</th>\n",
       "    </tr>\n",
       "  </thead>\n",
       "  <tbody>\n",
       "    <tr>\n",
       "      <th>0</th>\n",
       "      <td>40163</td>\n",
       "      <td>5.0</td>\n",
       "      <td>46634</td>\n",
       "      <td>14338</td>\n",
       "      <td>Chiostro</td>\n",
       "      <td>Herbed / Spiced Beer</td>\n",
       "      <td>4.0</td>\n",
       "      <td>4.0</td>\n",
       "      <td>4.0</td>\n",
       "      <td>4.0</td>\n",
       "      <td>4.0</td>\n",
       "      <td>Pours a clouded gold with a thin white head. N...</td>\n",
       "      <td>{'min': 38, 'hour': 3, 'mday': 16, 'sec': 10, ...</td>\n",
       "      <td>1229398690</td>\n",
       "      <td>NaN</td>\n",
       "      <td>NaN</td>\n",
       "      <td>NaN</td>\n",
       "      <td>NaN</td>\n",
       "      <td>RblWthACoz</td>\n",
       "    </tr>\n",
       "  </tbody>\n",
       "</table>\n",
       "</div>"
      ],
      "text/plain": [
       "   index  beer/ABV  beer/beerId  beer/brewerId beer/name  \\\n",
       "0  40163       5.0        46634          14338  Chiostro   \n",
       "\n",
       "             beer/style  review/appearance  review/aroma  review/overall  \\\n",
       "0  Herbed / Spiced Beer                4.0           4.0             4.0   \n",
       "\n",
       "   review/palate  review/taste  \\\n",
       "0            4.0           4.0   \n",
       "\n",
       "                                         review/text  \\\n",
       "0  Pours a clouded gold with a thin white head. N...   \n",
       "\n",
       "                                   review/timeStruct  review/timeUnix  \\\n",
       "0  {'min': 38, 'hour': 3, 'mday': 16, 'sec': 10, ...       1229398690   \n",
       "\n",
       "   user/ageInSeconds user/birthdayRaw  user/birthdayUnix user/gender  \\\n",
       "0                NaN              NaN                NaN         NaN   \n",
       "\n",
       "  user/profileName  \n",
       "0       RblWthACoz  "
      ]
     },
     "execution_count": 2,
     "metadata": {},
     "output_type": "execute_result"
    }
   ],
   "source": [
    "# reading data\n",
    "df = pd.read_csv('train.csv')\n",
    "df.head(1)"
   ]
  },
  {
   "cell_type": "code",
   "execution_count": 3,
   "metadata": {
    "nbpresent": {
     "id": "e0f6440a-b619-47eb-a2ac-300f1e344a00"
    }
   },
   "outputs": [
    {
     "data": {
      "text/plain": [
       "(37500, 19)"
      ]
     },
     "execution_count": 3,
     "metadata": {},
     "output_type": "execute_result"
    }
   ],
   "source": [
    "df.shape"
   ]
  },
  {
   "cell_type": "code",
   "execution_count": 4,
   "metadata": {
    "nbpresent": {
     "id": "0d050e69-df30-45e5-b5c2-c7e9fc3e1835"
    }
   },
   "outputs": [
    {
     "data": {
      "text/plain": [
       "Index(['index', 'beer/ABV', 'beer/beerId', 'beer/brewerId', 'beer/name',\n",
       "       'beer/style', 'review/appearance', 'review/aroma', 'review/overall',\n",
       "       'review/palate', 'review/taste', 'review/text', 'review/timeStruct',\n",
       "       'review/timeUnix', 'user/ageInSeconds', 'user/birthdayRaw',\n",
       "       'user/birthdayUnix', 'user/gender', 'user/profileName'],\n",
       "      dtype='object')"
      ]
     },
     "execution_count": 4,
     "metadata": {},
     "output_type": "execute_result"
    }
   ],
   "source": [
    "df.columns"
   ]
  },
  {
   "cell_type": "code",
   "execution_count": 5,
   "metadata": {
    "nbpresent": {
     "id": "ebc552e1-530f-45ae-b47c-8fe2523129bc"
    },
    "scrolled": false
   },
   "outputs": [
    {
     "data": {
      "text/plain": [
       "index                    0\n",
       "beer/ABV                 0\n",
       "beer/beerId              0\n",
       "beer/brewerId            0\n",
       "beer/name                0\n",
       "beer/style               0\n",
       "review/appearance        0\n",
       "review/aroma             0\n",
       "review/overall           0\n",
       "review/palate            0\n",
       "review/taste             0\n",
       "review/text             10\n",
       "review/timeStruct        0\n",
       "review/timeUnix          0\n",
       "user/ageInSeconds    29644\n",
       "user/birthdayRaw     29644\n",
       "user/birthdayUnix    29644\n",
       "user/gender          22186\n",
       "user/profileName         5\n",
       "dtype: int64"
      ]
     },
     "execution_count": 5,
     "metadata": {},
     "output_type": "execute_result"
    }
   ],
   "source": [
    "# checking null values\n",
    "df.isnull().sum()"
   ]
  },
  {
   "cell_type": "code",
   "execution_count": 6,
   "metadata": {
    "nbpresent": {
     "id": "fc65a008-a2aa-4263-85c4-b30fcfd32177"
    }
   },
   "outputs": [],
   "source": [
    "# making copy of original dataset\n",
    "df_copy = df.copy()"
   ]
  },
  {
   "cell_type": "code",
   "execution_count": 7,
   "metadata": {
    "nbpresent": {
     "id": "87575996-f65f-41b0-bbf2-a1f8b350d060"
    }
   },
   "outputs": [],
   "source": [
    "# filling in missing values for 'review/text'\n",
    "df['review/text'].fillna(value='Missing', inplace=True)"
   ]
  },
  {
   "cell_type": "code",
   "execution_count": 8,
   "metadata": {
    "nbpresent": {
     "id": "019c988f-b357-40c9-a447-59b6a457c81f"
    }
   },
   "outputs": [
    {
     "data": {
      "image/png": "[encoded data removed]",
      "text/plain": [
       "<Figure size 864x720 with 2 Axes>"
      ]
     },
     "metadata": {
      "needs_background": "light"
     },
     "output_type": "display_data"
    }
   ],
   "source": [
    "# gathering features to check correlation\n",
    "corr_df = df_copy.filter(['beer/ABV', 'beer/beerId', 'beer/brewerId', 'beer/name','beer/style', \n",
    "             'review/appearance', 'review/aroma','review/palate', 'review/taste','review/overall'])\n",
    "\n",
    "# plotting correlation matrix\n",
    "f = plt.figure(figsize=(12, 10))\n",
    "plt.matshow(corr_df.corr(), fignum=f.number)\n",
    "plt.xticks(range(corr_df.shape[1]), corr_df.columns, fontsize=14, rotation=45)\n",
    "plt.yticks(range(corr_df.shape[1]), corr_df.columns, fontsize=14)\n",
    "cb = plt.colorbar()\n",
    "cb.ax.tick_params(labelsize=14)"
   ]
  },
  {
   "cell_type": "code",
   "execution_count": 9,
   "metadata": {
    "nbpresent": {
     "id": "2ff8f91e-00c8-4657-aebc-7f2f460fcae8"
    }
   },
   "outputs": [
    {
     "data": {
      "text/plain": [
       "(array([1.0000e+00, 0.0000e+00, 1.7600e+02, 2.4800e+02, 8.0700e+02,\n",
       "        1.1930e+03, 3.3190e+03, 6.5510e+03, 1.3868e+04, 1.1337e+04]),\n",
       " array([0. , 0.5, 1. , 1.5, 2. , 2.5, 3. , 3.5, 4. , 4.5, 5. ]),\n",
       " <a list of 10 Patch objects>)"
      ]
     },
     "execution_count": 9,
     "metadata": {},
     "output_type": "execute_result"
    },
    {
     "data": {
      "image/png": "[encoded data removed]",
      "text/plain": [
       "<Figure size 432x288 with 1 Axes>"
      ]
     },
     "metadata": {
      "needs_background": "light"
     },
     "output_type": "display_data"
    }
   ],
   "source": [
    "# checking the distribution of dependent variable\n",
    "plt.hist(df['review/overall'],bins=10)"
   ]
  },
  {
   "cell_type": "code",
   "execution_count": 10,
   "metadata": {
    "nbpresent": {
     "id": "e49b3c8b-3866-435d-9fae-91ad835a4d80"
    }
   },
   "outputs": [],
   "source": [
    "# implementing label encoder for categorical variable\n",
    "lb_make = LabelEncoder()\n",
    "df['beer/name'] = lb_make.fit_transform(df['beer/name'])\n",
    "df['beer/style'] = lb_make.fit_transform(df['beer/style'])"
   ]
  },
  {
   "cell_type": "code",
   "execution_count": 11,
   "metadata": {
    "nbpresent": {
     "id": "7cddd796-1dd6-403a-9910-6072db2cba35"
    },
    "scrolled": true
   },
   "outputs": [
    {
     "data": {
      "text/html": [
       "<div>\n",
       "<style scoped>\n",
       "    .dataframe tbody tr th:only-of-type {\n",
       "        vertical-align: middle;\n",
       "    }\n",
       "\n",
       "    .dataframe tbody tr th {\n",
       "        vertical-align: top;\n",
       "    }\n",
       "\n",
       "    .dataframe thead th {\n",
       "        text-align: right;\n",
       "    }\n",
       "</style>\n",
       "<table border=\"1\" class=\"dataframe\">\n",
       "  <thead>\n",
       "    <tr style=\"text-align: right;\">\n",
       "      <th></th>\n",
       "      <th>beer/ABV</th>\n",
       "      <th>beer/beerId</th>\n",
       "      <th>beer/brewerId</th>\n",
       "      <th>beer/name</th>\n",
       "      <th>beer/style</th>\n",
       "      <th>review/appearance</th>\n",
       "      <th>review/aroma</th>\n",
       "      <th>review/palate</th>\n",
       "      <th>review/taste</th>\n",
       "    </tr>\n",
       "  </thead>\n",
       "  <tbody>\n",
       "    <tr>\n",
       "      <th>0</th>\n",
       "      <td>5.0</td>\n",
       "      <td>46634</td>\n",
       "      <td>14338</td>\n",
       "      <td>368</td>\n",
       "      <td>61</td>\n",
       "      <td>4.0</td>\n",
       "      <td>4.0</td>\n",
       "      <td>4.0</td>\n",
       "      <td>4.0</td>\n",
       "    </tr>\n",
       "    <tr>\n",
       "      <th>1</th>\n",
       "      <td>11.0</td>\n",
       "      <td>3003</td>\n",
       "      <td>395</td>\n",
       "      <td>153</td>\n",
       "      <td>4</td>\n",
       "      <td>4.0</td>\n",
       "      <td>3.5</td>\n",
       "      <td>3.5</td>\n",
       "      <td>3.0</td>\n",
       "    </tr>\n",
       "    <tr>\n",
       "      <th>2</th>\n",
       "      <td>4.7</td>\n",
       "      <td>961</td>\n",
       "      <td>365</td>\n",
       "      <td>1044</td>\n",
       "      <td>14</td>\n",
       "      <td>3.5</td>\n",
       "      <td>4.0</td>\n",
       "      <td>3.5</td>\n",
       "      <td>3.5</td>\n",
       "    </tr>\n",
       "    <tr>\n",
       "      <th>3</th>\n",
       "      <td>4.4</td>\n",
       "      <td>429</td>\n",
       "      <td>1</td>\n",
       "      <td>1174</td>\n",
       "      <td>35</td>\n",
       "      <td>3.0</td>\n",
       "      <td>3.0</td>\n",
       "      <td>3.0</td>\n",
       "      <td>3.0</td>\n",
       "    </tr>\n",
       "    <tr>\n",
       "      <th>4</th>\n",
       "      <td>4.4</td>\n",
       "      <td>4904</td>\n",
       "      <td>1417</td>\n",
       "      <td>230</td>\n",
       "      <td>46</td>\n",
       "      <td>4.0</td>\n",
       "      <td>3.0</td>\n",
       "      <td>3.5</td>\n",
       "      <td>2.5</td>\n",
       "    </tr>\n",
       "  </tbody>\n",
       "</table>\n",
       "</div>"
      ],
      "text/plain": [
       "   beer/ABV  beer/beerId  beer/brewerId  beer/name  beer/style  \\\n",
       "0       5.0        46634          14338        368          61   \n",
       "1      11.0         3003            395        153           4   \n",
       "2       4.7          961            365       1044          14   \n",
       "3       4.4          429              1       1174          35   \n",
       "4       4.4         4904           1417        230          46   \n",
       "\n",
       "   review/appearance  review/aroma  review/palate  review/taste  \n",
       "0                4.0           4.0            4.0           4.0  \n",
       "1                4.0           3.5            3.5           3.0  \n",
       "2                3.5           4.0            3.5           3.5  \n",
       "3                3.0           3.0            3.0           3.0  \n",
       "4                4.0           3.0            3.5           2.5  "
      ]
     },
     "execution_count": 11,
     "metadata": {},
     "output_type": "execute_result"
    }
   ],
   "source": [
    "# filtering columns having high correlation while omitting dependent variable\n",
    "norm_df = df.filter(['beer/ABV', 'beer/beerId', 'beer/brewerId', 'beer/name','beer/style', \n",
    "             'review/appearance', 'review/aroma','review/palate', 'review/taste'])\n",
    "norm_df.head()"
   ]
  },
  {
   "cell_type": "code",
   "execution_count": 12,
   "metadata": {
    "nbpresent": {
     "id": "c01e0137-9b04-44fe-b7c1-733aebb9d3d8"
    }
   },
   "outputs": [
    {
     "data": {
      "image/png": "[encoded data removed]",
      "text/plain": [
       "<Figure size 720x576 with 1 Axes>"
      ]
     },
     "metadata": {
      "needs_background": "light"
     },
     "output_type": "display_data"
    }
   ],
   "source": [
    "# checking for outliers\n",
    "boxplot = df.boxplot(column=['beer/ABV', 'beer/beerId', 'beer/brewerId', \n",
    "             'review/appearance', 'review/aroma','review/palate', 'review/taste','review/overall'],figsize=(10,8))"
   ]
  },
  {
   "cell_type": "code",
   "execution_count": 13,
   "metadata": {
    "nbpresent": {
     "id": "4c27472f-be53-4aa8-a749-d4959c393e84"
    },
    "scrolled": true
   },
   "outputs": [
    {
     "data": {
      "text/html": [
       "<div>\n",
       "<style scoped>\n",
       "    .dataframe tbody tr th:only-of-type {\n",
       "        vertical-align: middle;\n",
       "    }\n",
       "\n",
       "    .dataframe tbody tr th {\n",
       "        vertical-align: top;\n",
       "    }\n",
       "\n",
       "    .dataframe thead th {\n",
       "        text-align: right;\n",
       "    }\n",
       "</style>\n",
       "<table border=\"1\" class=\"dataframe\">\n",
       "  <thead>\n",
       "    <tr style=\"text-align: right;\">\n",
       "      <th></th>\n",
       "      <th>0</th>\n",
       "      <th>1</th>\n",
       "      <th>2</th>\n",
       "      <th>3</th>\n",
       "      <th>4</th>\n",
       "      <th>5</th>\n",
       "      <th>6</th>\n",
       "      <th>7</th>\n",
       "      <th>8</th>\n",
       "    </tr>\n",
       "  </thead>\n",
       "  <tbody>\n",
       "    <tr>\n",
       "      <th>0</th>\n",
       "      <td>0.085069</td>\n",
       "      <td>0.603113</td>\n",
       "      <td>0.515794</td>\n",
       "      <td>0.218139</td>\n",
       "      <td>0.648936</td>\n",
       "      <td>0.8</td>\n",
       "      <td>0.750</td>\n",
       "      <td>0.750</td>\n",
       "      <td>0.750</td>\n",
       "    </tr>\n",
       "    <tr>\n",
       "      <th>1</th>\n",
       "      <td>0.189236</td>\n",
       "      <td>0.036712</td>\n",
       "      <td>0.014175</td>\n",
       "      <td>0.090694</td>\n",
       "      <td>0.042553</td>\n",
       "      <td>0.8</td>\n",
       "      <td>0.625</td>\n",
       "      <td>0.625</td>\n",
       "      <td>0.500</td>\n",
       "    </tr>\n",
       "    <tr>\n",
       "      <th>2</th>\n",
       "      <td>0.079861</td>\n",
       "      <td>0.010204</td>\n",
       "      <td>0.013095</td>\n",
       "      <td>0.618850</td>\n",
       "      <td>0.148936</td>\n",
       "      <td>0.7</td>\n",
       "      <td>0.750</td>\n",
       "      <td>0.625</td>\n",
       "      <td>0.625</td>\n",
       "    </tr>\n",
       "    <tr>\n",
       "      <th>3</th>\n",
       "      <td>0.074653</td>\n",
       "      <td>0.003297</td>\n",
       "      <td>0.000000</td>\n",
       "      <td>0.695910</td>\n",
       "      <td>0.372340</td>\n",
       "      <td>0.6</td>\n",
       "      <td>0.500</td>\n",
       "      <td>0.500</td>\n",
       "      <td>0.500</td>\n",
       "    </tr>\n",
       "    <tr>\n",
       "      <th>4</th>\n",
       "      <td>0.074653</td>\n",
       "      <td>0.061390</td>\n",
       "      <td>0.050943</td>\n",
       "      <td>0.136337</td>\n",
       "      <td>0.489362</td>\n",
       "      <td>0.8</td>\n",
       "      <td>0.500</td>\n",
       "      <td>0.625</td>\n",
       "      <td>0.375</td>\n",
       "    </tr>\n",
       "  </tbody>\n",
       "</table>\n",
       "</div>"
      ],
      "text/plain": [
       "          0         1         2         3         4    5      6      7      8\n",
       "0  0.085069  0.603113  0.515794  0.218139  0.648936  0.8  0.750  0.750  0.750\n",
       "1  0.189236  0.036712  0.014175  0.090694  0.042553  0.8  0.625  0.625  0.500\n",
       "2  0.079861  0.010204  0.013095  0.618850  0.148936  0.7  0.750  0.625  0.625\n",
       "3  0.074653  0.003297  0.000000  0.695910  0.372340  0.6  0.500  0.500  0.500\n",
       "4  0.074653  0.061390  0.050943  0.136337  0.489362  0.8  0.500  0.625  0.375"
      ]
     },
     "execution_count": 13,
     "metadata": {},
     "output_type": "execute_result"
    }
   ],
   "source": [
    "# Normalizing using MinMax Scaler\n",
    "x = norm_df.values\n",
    "min_max_scale = MinMaxScaler()\n",
    "x_scaled = min_max_scale.fit_transform(x)\n",
    "scaled_df = pd.DataFrame(x_scaled)\n",
    "scaled_df.head()"
   ]
  },
  {
   "cell_type": "code",
   "execution_count": 14,
   "metadata": {
    "nbpresent": {
     "id": "69b26467-7541-409e-bb8b-aec61490dcff"
    }
   },
   "outputs": [],
   "source": [
    "# Splitting dataset\n",
    "X = scaled_df\n",
    "# taking the natural logarithm of one plus the dependent variable\n",
    "y = np.log1p(df['review/overall'].values)\n",
    "X_train, X_test, y_train, y_test = train_test_split(X, y, test_size=0.4, random_state=1)"
   ]
  },
  {
   "cell_type": "code",
   "execution_count": 15,
   "metadata": {
    "nbpresent": {
     "id": "898e707f-39db-4d93-a2d2-ae301878e32f"
    }
   },
   "outputs": [],
   "source": [
    "# function to fit models and calculate error\n",
    "def run_regression_model(X_train, X_test, y_train, y_test, model):\n",
    "    model.fit(X_train, y_train)\n",
    "    print(model)\n",
    "    print(\"Training set r score: \", model.score(X_train, y_train))\n",
    "    print(\"Test set r score: \", model.score(X_test, y_test))\n",
    "    predictions = model.predict(X_test)\n",
    "    print(\"Mean Absolute Error on Test Set:\", mean_absolute_error(y_test, predictions))\n",
    "    print(\"Mean Squared Error on Test Set:\", mean_squared_error(y_test, predictions))\n",
    "    print(\"Root Mean Squared Error on Test Set:\",np.sqrt(mean_squared_error(y_test,predictions)))\n",
    "    plt.scatter(y_test, predictions)\n",
    "    plt.ylabel('Predicted Score')\n",
    "    plt.xlabel('Actual Score')\n",
    "    plt.plot([0, 5], [0, 5])\n",
    "    plt.show()\n",
    "    plt.clf()"
   ]
  },
  {
   "cell_type": "code",
   "execution_count": 16,
   "metadata": {
    "nbpresent": {
     "id": "2b41c814-7f1b-476c-aa72-6900f0a33045"
    }
   },
   "outputs": [],
   "source": [
    "# defining some models\n",
    "lr = LinearRegression()\n",
    "rndfr = RandomForestRegressor(n_estimators=100, n_jobs=-1, max_depth=18)\n",
    "xgbr = XGBRegressor(max_depth=18, n_estimators=100)\n",
    "models = [lr, rndfr, xgbr]"
   ]
  },
  {
   "cell_type": "code",
   "execution_count": 17,
   "metadata": {
    "nbpresent": {
     "id": "47fc7cc5-717a-4d91-aad0-93adae64788e"
    }
   },
   "outputs": [
    {
     "name": "stdout",
     "output_type": "stream",
     "text": [
      "LinearRegression()\n",
      "Training set r score:  0.6683137998974384\n",
      "Test set r score:  0.6757785662977711\n",
      "Mean Absolute Error on Test Set: 0.06714329157491924\n",
      "Mean Squared Error on Test Set: 0.008839330824183719\n",
      "Root Mean Squared Error on Test Set: 0.094017715480561\n"
     ]
    },
    {
     "data": {
      "image/png": "[encoded data removed]",
      "text/plain": [
       "<Figure size 432x288 with 1 Axes>"
      ]
     },
     "metadata": {
      "needs_background": "light"
     },
     "output_type": "display_data"
    },
    {
     "name": "stdout",
     "output_type": "stream",
     "text": [
      "RandomForestRegressor(max_depth=18, n_jobs=-1)\n",
      "Training set r score:  0.8670948896282855\n",
      "Test set r score:  0.6707470769703086\n",
      "Mean Absolute Error on Test Set: 0.0683658487862098\n",
      "Mean Squared Error on Test Set: 0.008976505588343937\n",
      "Root Mean Squared Error on Test Set: 0.0947444224656203\n"
     ]
    },
    {
     "data": {
      "image/png": "[encoded data removed]",
      "text/plain": [
       "<Figure size 432x288 with 1 Axes>"
      ]
     },
     "metadata": {
      "needs_background": "light"
     },
     "output_type": "display_data"
    },
    {
     "name": "stdout",
     "output_type": "stream",
     "text": [
      "XGBRegressor(base_score=0.5, booster='gbtree', colsample_bylevel=1,\n",
      "             colsample_bynode=1, colsample_bytree=1, gamma=0, gpu_id=-1,\n",
      "             importance_type='gain', interaction_constraints='',\n",
      "             learning_rate=0.300000012, max_delta_step=0, max_depth=18,\n",
      "             min_child_weight=1, missing=nan, monotone_constraints='()',\n",
      "             n_estimators=100, n_jobs=0, num_parallel_tree=1, random_state=0,\n",
      "             reg_alpha=0, reg_lambda=1, scale_pos_weight=1, subsample=1,\n",
      "             tree_method='exact', validate_parameters=1, verbosity=None)\n",
      "Training set r score:  0.9089999297634213\n",
      "Test set r score:  0.6102081542245033\n",
      "Mean Absolute Error on Test Set: 0.07377022596886579\n",
      "Mean Squared Error on Test Set: 0.010626993527341026\n",
      "Root Mean Squared Error on Test Set: 0.1030873102148903\n"
     ]
    },
    {
     "data": {
      "image/png": "[encoded data removed]",
      "text/plain": [
       "<Figure size 432x288 with 1 Axes>"
      ]
     },
     "metadata": {
      "needs_background": "light"
     },
     "output_type": "display_data"
    },
    {
     "data": {
      "text/plain": [
       "<Figure size 432x288 with 0 Axes>"
      ]
     },
     "metadata": {},
     "output_type": "display_data"
    }
   ],
   "source": [
    "# passing models to function\n",
    "for model in models:\n",
    "    run_regression_model(X_train, X_test, y_train, y_test, model)"
   ]
  },
  {
   "cell_type": "markdown",
   "metadata": {
    "nbpresent": {
     "id": "41921af7-9339-4147-bfe2-464a1e828ab7"
    }
   },
   "source": [
    "<font size=\"5\">Using review/text to try and improve accuracy</font>"
   ]
  },
  {
   "cell_type": "code",
   "execution_count": 18,
   "metadata": {
    "nbpresent": {
     "id": "7bb560f5-50b7-4d2c-a980-928c636c0912"
    }
   },
   "outputs": [],
   "source": [
    "# creating a corpus of all text\n",
    "corpus = df['review/text']"
   ]
  },
  {
   "cell_type": "code",
   "execution_count": 19,
   "metadata": {
    "nbpresent": {
     "id": "7378ca8b-519b-4d44-a1a3-964354b40054"
    }
   },
   "outputs": [],
   "source": [
    "# genetate term frequency–inverse document frequency matrix\n",
    "vectorizer = TfidfVectorizer()\n",
    "vectors = vectorizer.fit_transform(corpus)\n",
    "feature_names = vectorizer.get_feature_names()\n",
    "dense = vectors.todense()\n",
    "\n",
    "df_corp = pd.DataFrame(dense, columns=feature_names)"
   ]
  },
  {
   "cell_type": "code",
   "execution_count": 20,
   "metadata": {
    "nbpresent": {
     "id": "d13df956-43d8-4af2-835c-6af17da0d02b"
    }
   },
   "outputs": [],
   "source": [
    "# concatinating tf-idf matrix with previous scaled data\n",
    "complete_df = pd.concat([df_corp, scaled_df], axis=1, sort=False)"
   ]
  },
  {
   "cell_type": "code",
   "execution_count": 36,
   "metadata": {
    "nbpresent": {
     "id": "26a70d63-1816-4f58-8407-697beece190e"
    }
   },
   "outputs": [
    {
     "data": {
      "text/plain": [
       "(37500, 41449)"
      ]
     },
     "execution_count": 36,
     "metadata": {},
     "output_type": "execute_result"
    }
   ],
   "source": [
    "complete_df.shape"
   ]
  },
  {
   "cell_type": "code",
   "execution_count": 21,
   "metadata": {
    "nbpresent": {
     "id": "16526255-46fb-459c-83c6-7b49cbdfb1d4"
    }
   },
   "outputs": [],
   "source": [
    "# Splitting dataset\n",
    "X = complete_df\n",
    "y = np.log1p(df_copy['review/overall'].values)\n",
    "X_train, X_test, y_train, y_test = train_test_split(X, y, test_size=0.4, random_state=1)"
   ]
  },
  {
   "cell_type": "code",
   "execution_count": 22,
   "metadata": {
    "nbpresent": {
     "id": "09548a63-0c0d-4af5-9f47-42b038121e0c"
    },
    "scrolled": false
   },
   "outputs": [
    {
     "name": "stdout",
     "output_type": "stream",
     "text": [
      "RandomForestRegressor(max_depth=18, n_jobs=-1)\n",
      "Training set r score:  0.8729489545286745\n",
      "Test set r score:  0.7029281037534996\n",
      "Mean Absolute Error on Test Set: 0.06489524262388892\n",
      "Mean Squared Error on Test Set: 0.008099146128328119\n",
      "Root Mean Squared Error on Test Set: 0.08999525614346636\n"
     ]
    },
    {
     "data": {
      "image/png": "[encoded data removed]",
      "text/plain": [
       "<Figure size 432x288 with 1 Axes>"
      ]
     },
     "metadata": {
      "needs_background": "light"
     },
     "output_type": "display_data"
    },
    {
     "name": "stdout",
     "output_type": "stream",
     "text": [
      "SGDRegressor(max_iter=40, random_state=101)\n",
      "Training set r score:  0.6513509018791164\n",
      "Test set r score:  0.6551976227328273\n",
      "Mean Absolute Error on Test Set: 0.06932380819433658\n",
      "Mean Squared Error on Test Set: 0.009400434285997022\n",
      "Root Mean Squared Error on Test Set: 0.09695583678148016\n"
     ]
    },
    {
     "data": {
      "image/png": "[encoded data removed]",
      "text/plain": [
       "<Figure size 432x288 with 1 Axes>"
      ]
     },
     "metadata": {
      "needs_background": "light"
     },
     "output_type": "display_data"
    },
    {
     "data": {
      "text/plain": [
       "<Figure size 432x288 with 0 Axes>"
      ]
     },
     "metadata": {},
     "output_type": "display_data"
    }
   ],
   "source": [
    "# training two models on complete dataset\n",
    "sgdr = SGDRegressor(loss='squared_loss', penalty='l2', random_state=101, max_iter=40)\n",
    "rndfr = RandomForestRegressor(n_estimators=100, n_jobs=-1, max_depth=18)\n",
    "\n",
    "\n",
    "models = [rndfr, sgdr]\n",
    "\n",
    "for model in models:\n",
    "    run_regression_model(X_train, X_test, y_train, y_test, model)"
   ]
  },
  {
   "cell_type": "markdown",
   "metadata": {},
   "source": [
    "<font size=\"5\">Random Forest Regressor gave the best RMSE score of 0.08999525614346636</font>"
   ]
  }
 ],
 "metadata": {
  "environment": {
   "name": "pytorch-gpu.1-4.m46",
   "type": "gcloud",
   "uri": "gcr.io/deeplearning-platform-release/pytorch-gpu.1-4:m46"
  },
  "kernelspec": {
   "display_name": "Python 3",
   "language": "python",
   "name": "python3"
  },
  "language_info": {
   "codemirror_mode": {
    "name": "ipython",
    "version": 3
   },
   "file_extension": ".py",
   "mimetype": "text/x-python",
   "name": "python",
   "nbconvert_exporter": "python",
   "pygments_lexer": "ipython3",
   "version": "3.7.4"
  }
 },
 "nbformat": 4,
 "nbformat_minor": 4
}
